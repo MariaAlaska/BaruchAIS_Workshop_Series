{
 "cells": [
  {
   "cell_type": "markdown",
   "metadata": {},
   "source": [
    "# Baruch AIS: Workshop Series"
   ]
  },
  {
   "cell_type": "markdown",
   "metadata": {},
   "source": [
    "### Lesson 1: Introduction  (1.5hr)   12:30 PM - 2PM\n",
    "\n",
    "##### 1. Jupyter Online / Google Colab (10-15 min)\n",
    "##### 2. Yahoo Finance (5 min)\n",
    "##### 3. Importing Libraries (5-10 min)"
   ]
  },
  {
   "cell_type": "code",
   "execution_count": 32,
   "metadata": {},
   "outputs": [],
   "source": [
    "import pandas as pd     #everything else\n",
    "import numpy as np        #calculations\n",
    "import matplotlib.pyplot as plt    # data visualization\n",
    "from matplotlib import style\n",
    "import pandas_datareader as pdr       #pandas datareader to get stock data\n",
    "from scipy import stats    # statistics\n",
    "sns.set_style('whitegrid')\n",
    "import seaborn as sns     #data visualization\n",
    "import datetime\n",
    "\n",
    "%matplotlib inline"
   ]
  },
  {
   "cell_type": "code",
   "execution_count": 42,
   "metadata": {},
   "outputs": [
    {
     "name": "stdout",
     "output_type": "stream",
     "text": [
      "Enter Symbol of Stock 1: TSLA\n",
      "Enter Symobl of Stock 2: AAPL\n",
      "Enter a start date in YYYY-MM-DD format: 2019-12-12\n",
      "Enter an end date in YYYY-MM-DD format: 2020-12-12\n"
     ]
    }
   ],
   "source": [
    "#Make it interactive for user\n",
    "\n",
    "symbolA= input(\"Enter Symbol of Stock 1: \")\n",
    "symbolB= input(\"Enter Symobl of Stock 2: \")\n",
    "\n",
    "#User enters the start date of stock analysis\n",
    "date_entry = input('Enter a start date in YYYY-MM-DD format: ')\n",
    "year, month, day = map(int, date_entry.split('-'))\n",
    "start = datetime.date(year, month, day)\n",
    "\n",
    "# User enters the end date of stock analysis\n",
    "date_entry = input('Enter an end date in YYYY-MM-DD format: ')\n",
    "year, month, day = map(int, date_entry.split('-'))\n",
    "end = datetime.date(year, month, day)"
   ]
  },
  {
   "cell_type": "code",
   "execution_count": 51,
   "metadata": {},
   "outputs": [],
   "source": [
    "## Import data from Yahoo\n",
    "\n",
    "TSLA= pdr.DataReader(symbolA, 'yahoo', start, end)\n",
    "AAPL= pdr.DataReader(symbolB, 'yahoo', start, end)"
   ]
  },
  {
   "cell_type": "code",
   "execution_count": 58,
   "metadata": {},
   "outputs": [
    {
     "data": {
      "text/html": [
       "<div>\n",
       "<style scoped>\n",
       "    .dataframe tbody tr th:only-of-type {\n",
       "        vertical-align: middle;\n",
       "    }\n",
       "\n",
       "    .dataframe tbody tr th {\n",
       "        vertical-align: top;\n",
       "    }\n",
       "\n",
       "    .dataframe thead th {\n",
       "        text-align: right;\n",
       "    }\n",
       "</style>\n",
       "<table border=\"1\" class=\"dataframe\">\n",
       "  <thead>\n",
       "    <tr style=\"text-align: right;\">\n",
       "      <th></th>\n",
       "      <th>High</th>\n",
       "      <th>Low</th>\n",
       "      <th>Open</th>\n",
       "      <th>Close</th>\n",
       "      <th>Volume</th>\n",
       "      <th>Adj Close</th>\n",
       "    </tr>\n",
       "    <tr>\n",
       "      <th>Date</th>\n",
       "      <th></th>\n",
       "      <th></th>\n",
       "      <th></th>\n",
       "      <th></th>\n",
       "      <th></th>\n",
       "      <th></th>\n",
       "    </tr>\n",
       "  </thead>\n",
       "  <tbody>\n",
       "    <tr>\n",
       "      <th>2020-11-30</th>\n",
       "      <td>607.799988</td>\n",
       "      <td>554.510010</td>\n",
       "      <td>602.210022</td>\n",
       "      <td>567.599976</td>\n",
       "      <td>63003100.0</td>\n",
       "      <td>567.599976</td>\n",
       "    </tr>\n",
       "    <tr>\n",
       "      <th>2020-12-01</th>\n",
       "      <td>597.849976</td>\n",
       "      <td>572.049988</td>\n",
       "      <td>597.590027</td>\n",
       "      <td>584.760010</td>\n",
       "      <td>40382800.0</td>\n",
       "      <td>584.760010</td>\n",
       "    </tr>\n",
       "    <tr>\n",
       "      <th>2020-12-02</th>\n",
       "      <td>571.539978</td>\n",
       "      <td>541.210022</td>\n",
       "      <td>556.440002</td>\n",
       "      <td>568.820007</td>\n",
       "      <td>47775700.0</td>\n",
       "      <td>568.820007</td>\n",
       "    </tr>\n",
       "    <tr>\n",
       "      <th>2020-12-03</th>\n",
       "      <td>598.969971</td>\n",
       "      <td>582.429993</td>\n",
       "      <td>590.020020</td>\n",
       "      <td>593.380005</td>\n",
       "      <td>42552000.0</td>\n",
       "      <td>593.380005</td>\n",
       "    </tr>\n",
       "    <tr>\n",
       "      <th>2020-12-04</th>\n",
       "      <td>599.039978</td>\n",
       "      <td>585.500000</td>\n",
       "      <td>591.010010</td>\n",
       "      <td>599.039978</td>\n",
       "      <td>29401300.0</td>\n",
       "      <td>599.039978</td>\n",
       "    </tr>\n",
       "    <tr>\n",
       "      <th>2020-12-07</th>\n",
       "      <td>648.789978</td>\n",
       "      <td>603.049988</td>\n",
       "      <td>604.919983</td>\n",
       "      <td>641.760010</td>\n",
       "      <td>56309700.0</td>\n",
       "      <td>641.760010</td>\n",
       "    </tr>\n",
       "    <tr>\n",
       "      <th>2020-12-08</th>\n",
       "      <td>651.280029</td>\n",
       "      <td>618.500000</td>\n",
       "      <td>625.510010</td>\n",
       "      <td>649.880005</td>\n",
       "      <td>64265000.0</td>\n",
       "      <td>649.880005</td>\n",
       "    </tr>\n",
       "    <tr>\n",
       "      <th>2020-12-09</th>\n",
       "      <td>654.320007</td>\n",
       "      <td>588.000000</td>\n",
       "      <td>653.690002</td>\n",
       "      <td>604.479980</td>\n",
       "      <td>71291200.0</td>\n",
       "      <td>604.479980</td>\n",
       "    </tr>\n",
       "    <tr>\n",
       "      <th>2020-12-10</th>\n",
       "      <td>627.750000</td>\n",
       "      <td>566.340027</td>\n",
       "      <td>574.369995</td>\n",
       "      <td>627.070007</td>\n",
       "      <td>67083200.0</td>\n",
       "      <td>627.070007</td>\n",
       "    </tr>\n",
       "    <tr>\n",
       "      <th>2020-12-11</th>\n",
       "      <td>624.000000</td>\n",
       "      <td>596.799988</td>\n",
       "      <td>615.010010</td>\n",
       "      <td>609.989990</td>\n",
       "      <td>46475000.0</td>\n",
       "      <td>609.989990</td>\n",
       "    </tr>\n",
       "  </tbody>\n",
       "</table>\n",
       "</div>"
      ],
      "text/plain": [
       "                  High         Low        Open       Close      Volume  \\\n",
       "Date                                                                     \n",
       "2020-11-30  607.799988  554.510010  602.210022  567.599976  63003100.0   \n",
       "2020-12-01  597.849976  572.049988  597.590027  584.760010  40382800.0   \n",
       "2020-12-02  571.539978  541.210022  556.440002  568.820007  47775700.0   \n",
       "2020-12-03  598.969971  582.429993  590.020020  593.380005  42552000.0   \n",
       "2020-12-04  599.039978  585.500000  591.010010  599.039978  29401300.0   \n",
       "2020-12-07  648.789978  603.049988  604.919983  641.760010  56309700.0   \n",
       "2020-12-08  651.280029  618.500000  625.510010  649.880005  64265000.0   \n",
       "2020-12-09  654.320007  588.000000  653.690002  604.479980  71291200.0   \n",
       "2020-12-10  627.750000  566.340027  574.369995  627.070007  67083200.0   \n",
       "2020-12-11  624.000000  596.799988  615.010010  609.989990  46475000.0   \n",
       "\n",
       "             Adj Close  \n",
       "Date                    \n",
       "2020-11-30  567.599976  \n",
       "2020-12-01  584.760010  \n",
       "2020-12-02  568.820007  \n",
       "2020-12-03  593.380005  \n",
       "2020-12-04  599.039978  \n",
       "2020-12-07  641.760010  \n",
       "2020-12-08  649.880005  \n",
       "2020-12-09  604.479980  \n",
       "2020-12-10  627.070007  \n",
       "2020-12-11  609.989990  "
      ]
     },
     "execution_count": 58,
     "metadata": {},
     "output_type": "execute_result"
    }
   ],
   "source": [
    "## Explore stocks\n",
    "\n",
    "TSLA.head(10)   #first ten rows\n",
    "\n",
    "TSLA.tail(10)    #last ten rows"
   ]
  },
  {
   "cell_type": "code",
   "execution_count": 53,
   "metadata": {},
   "outputs": [],
   "source": [
    "## only keep columns that you want to analyze\n",
    "\n",
    "TSLA_= TSLA[[\"Adj Close\"]]"
   ]
  },
  {
   "cell_type": "code",
   "execution_count": 56,
   "metadata": {},
   "outputs": [
    {
     "data": {
      "text/plain": [
       "Adj Close    0\n",
       "dtype: int64"
      ]
     },
     "execution_count": 56,
     "metadata": {},
     "output_type": "execute_result"
    }
   ],
   "source": [
    "# are there missing values?\n",
    "\n",
    "TSLA_.isnull().sum()"
   ]
  },
  {
   "cell_type": "code",
   "execution_count": 65,
   "metadata": {},
   "outputs": [
    {
     "data": {
      "text/plain": [
       "Index(['Adj_Close'], dtype='object')"
      ]
     },
     "execution_count": 65,
     "metadata": {},
     "output_type": "execute_result"
    }
   ],
   "source": [
    "## Identify index and columns + rename a column\n",
    "\n",
    "TSLA_.index\n",
    "TSLA_.columns\n",
    "\n",
    "#TSLA_.rename(columns = {\"Adj Close\": \"Adj_Close\"}, inplace= True)"
   ]
  },
  {
   "cell_type": "code",
   "execution_count": 61,
   "metadata": {},
   "outputs": [
    {
     "data": {
      "text/html": [
       "<div>\n",
       "<style scoped>\n",
       "    .dataframe tbody tr th:only-of-type {\n",
       "        vertical-align: middle;\n",
       "    }\n",
       "\n",
       "    .dataframe tbody tr th {\n",
       "        vertical-align: top;\n",
       "    }\n",
       "\n",
       "    .dataframe thead th {\n",
       "        text-align: right;\n",
       "    }\n",
       "</style>\n",
       "<table border=\"1\" class=\"dataframe\">\n",
       "  <thead>\n",
       "    <tr style=\"text-align: right;\">\n",
       "      <th></th>\n",
       "      <th>Adj_Close</th>\n",
       "    </tr>\n",
       "    <tr>\n",
       "      <th>Date</th>\n",
       "      <th></th>\n",
       "    </tr>\n",
       "  </thead>\n",
       "  <tbody>\n",
       "    <tr>\n",
       "      <th>2019-12-12</th>\n",
       "      <td>71.935997</td>\n",
       "    </tr>\n",
       "    <tr>\n",
       "      <th>2019-12-13</th>\n",
       "      <td>71.678001</td>\n",
       "    </tr>\n",
       "    <tr>\n",
       "      <th>2019-12-16</th>\n",
       "      <td>76.300003</td>\n",
       "    </tr>\n",
       "    <tr>\n",
       "      <th>2019-12-17</th>\n",
       "      <td>75.797997</td>\n",
       "    </tr>\n",
       "    <tr>\n",
       "      <th>2019-12-18</th>\n",
       "      <td>78.629997</td>\n",
       "    </tr>\n",
       "  </tbody>\n",
       "</table>\n",
       "</div>"
      ],
      "text/plain": [
       "            Adj_Close\n",
       "Date                 \n",
       "2019-12-12  71.935997\n",
       "2019-12-13  71.678001\n",
       "2019-12-16  76.300003\n",
       "2019-12-17  75.797997\n",
       "2019-12-18  78.629997"
      ]
     },
     "execution_count": 61,
     "metadata": {},
     "output_type": "execute_result"
    }
   ],
   "source": [
    "TSLA_.head()"
   ]
  },
  {
   "cell_type": "code",
   "execution_count": 70,
   "metadata": {},
   "outputs": [
    {
     "data": {
      "text/plain": [
       "260.2310665567873"
      ]
     },
     "execution_count": 70,
     "metadata": {},
     "output_type": "execute_result"
    }
   ],
   "source": [
    "# Find the highest,lowest and mean value in Adj_Close\n",
    "\n",
    "TSLA_.Adj_Close.max()\n",
    "\n",
    "TSLA_.Adj_Close.min()\n",
    "\n",
    "TSLA_.Adj_Close.mean()"
   ]
  },
  {
   "cell_type": "markdown",
   "metadata": {},
   "source": [
    "#### First workshop is OVER!"
   ]
  },
  {
   "cell_type": "code",
   "execution_count": null,
   "metadata": {},
   "outputs": [],
   "source": [
    "###"
   ]
  }
 ],
 "metadata": {
  "kernelspec": {
   "display_name": "Python 3",
   "language": "python",
   "name": "python3"
  },
  "language_info": {
   "codemirror_mode": {
    "name": "ipython",
    "version": 3
   },
   "file_extension": ".py",
   "mimetype": "text/x-python",
   "name": "python",
   "nbconvert_exporter": "python",
   "pygments_lexer": "ipython3",
   "version": "3.8.3"
  }
 },
 "nbformat": 4,
 "nbformat_minor": 4
}
